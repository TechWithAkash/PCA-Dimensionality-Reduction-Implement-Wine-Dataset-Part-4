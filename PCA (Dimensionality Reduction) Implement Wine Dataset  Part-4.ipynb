{
 "cells": [
  {
   "cell_type": "markdown",
   "id": "30d071d9",
   "metadata": {},
   "source": [
    "# Assignment: PCA Implementation"
   ]
  },
  {
   "cell_type": "code",
   "execution_count": 21,
   "id": "8351de60",
   "metadata": {},
   "outputs": [],
   "source": [
    "import pandas as pd\n",
    "import numpy as np\n",
    "from sklearn.decomposition import PCA\n",
    "\n",
    "import matplotlib.pyplot as plt\n",
    "import seaborn as sns"
   ]
  },
  {
   "cell_type": "code",
   "execution_count": 8,
   "id": "4626ff5c",
   "metadata": {},
   "outputs": [
    {
     "name": "stdout",
     "output_type": "stream",
     "text": [
      "Defaulting to user installation because normal site-packages is not writeableNote: you may need to restart the kernel to use updated packages.\n",
      "\n",
      "Requirement already satisfied: ucimlrepo in c:\\users\\akash vishwakarma\\appdata\\roaming\\python\\python310\\site-packages (0.0.3)\n"
     ]
    }
   ],
   "source": [
    "pip install ucimlrepo"
   ]
  },
  {
   "cell_type": "code",
   "execution_count": 12,
   "id": "0c106aeb",
   "metadata": {},
   "outputs": [
    {
     "name": "stdout",
     "output_type": "stream",
     "text": [
      "{'uci_id': 109, 'name': 'Wine', 'repository_url': 'https://archive.ics.uci.edu/dataset/109/wine', 'data_url': 'https://archive.ics.uci.edu/static/public/109/data.csv', 'abstract': 'Using chemical analysis to determine the origin of wines', 'area': 'Physics and Chemistry', 'tasks': ['Classification'], 'characteristics': ['Tabular'], 'num_instances': 178, 'num_features': 13, 'feature_types': ['Integer', 'Real'], 'demographics': [], 'target_col': ['class'], 'index_col': None, 'has_missing_values': 'no', 'missing_values_symbol': None, 'year_of_dataset_creation': 1992, 'last_updated': 'Mon Aug 28 2023', 'dataset_doi': '10.24432/C5PC7J', 'creators': ['Stefan Aeberhard', 'M. Forina'], 'intro_paper': {'title': 'Comparative analysis of statistical pattern recognition methods in high dimensional settings', 'authors': 'S. Aeberhard, D. Coomans, O. Vel', 'published_in': 'Pattern Recognition', 'year': 1994, 'url': 'https://www.semanticscholar.org/paper/83dc3e4030d7b9fbdbb4bde03ce12ab70ca10528', 'doi': '10.1016/0031-3203(94)90145-7'}, 'additional_info': {'summary': 'These data are the results of a chemical analysis of wines grown in the same region in Italy but derived from three different cultivars. The analysis determined the quantities of 13 constituents found in each of the three types of wines. \\r\\n\\r\\nI think that the initial data set had around 30 variables, but for some reason I only have the 13 dimensional version. I had a list of what the 30 or so variables were, but a.)  I lost it, and b.), I would not know which 13 variables are included in the set.\\r\\n\\r\\nThe attributes are (dontated by Riccardo Leardi, riclea@anchem.unige.it )\\r\\n1) Alcohol\\r\\n2) Malic acid\\r\\n3) Ash\\r\\n4) Alcalinity of ash  \\r\\n5) Magnesium\\r\\n6) Total phenols\\r\\n7) Flavanoids\\r\\n8) Nonflavanoid phenols\\r\\n9) Proanthocyanins\\r\\n10)Color intensity\\r\\n11)Hue\\r\\n12)OD280/OD315 of diluted wines\\r\\n13)Proline \\r\\n\\r\\nIn a classification context, this is a well posed problem with \"well behaved\" class structures. A good data set for first testing of a new classifier, but not very challenging.           ', 'purpose': 'test', 'funded_by': None, 'instances_represent': None, 'recommended_data_splits': None, 'sensitive_data': None, 'preprocessing_description': None, 'variable_info': 'All attributes are continuous\\r\\n\\t\\r\\nNo statistics available, but suggest to standardise variables for certain uses (e.g. for us with classifiers which are NOT scale invariant)\\r\\n\\r\\nNOTE: 1st attribute is class identifier (1-3)', 'citation': None}}\n",
      "                            name     role         type demographic  \\\n",
      "0                          class   Target  Categorical        None   \n",
      "1                        Alcohol  Feature   Continuous        None   \n",
      "2                      Malicacid  Feature   Continuous        None   \n",
      "3                            Ash  Feature   Continuous        None   \n",
      "4              Alcalinity_of_ash  Feature   Continuous        None   \n",
      "5                      Magnesium  Feature      Integer        None   \n",
      "6                  Total_phenols  Feature   Continuous        None   \n",
      "7                     Flavanoids  Feature   Continuous        None   \n",
      "8           Nonflavanoid_phenols  Feature   Continuous        None   \n",
      "9                Proanthocyanins  Feature   Continuous        None   \n",
      "10               Color_intensity  Feature   Continuous        None   \n",
      "11                           Hue  Feature   Continuous        None   \n",
      "12  0D280_0D315_of_diluted_wines  Feature   Continuous        None   \n",
      "13                       Proline  Feature      Integer        None   \n",
      "\n",
      "   description units missing_values  \n",
      "0         None  None             no  \n",
      "1         None  None             no  \n",
      "2         None  None             no  \n",
      "3         None  None             no  \n",
      "4         None  None             no  \n",
      "5         None  None             no  \n",
      "6         None  None             no  \n",
      "7         None  None             no  \n",
      "8         None  None             no  \n",
      "9         None  None             no  \n",
      "10        None  None             no  \n",
      "11        None  None             no  \n",
      "12        None  None             no  \n",
      "13        None  None             no  \n"
     ]
    }
   ],
   "source": [
    "from ucimlrepo import fetch_ucirepo \n",
    "  \n",
    "# fetch dataset \n",
    "data = fetch_ucirepo(id=109) \n",
    "  \n",
    "# data (as pandas dataframes) \n",
    "X = data.data.features \n",
    "y = data.data.targets \n",
    "  \n",
    "# metadata \n",
    "print(data.metadata) \n",
    "  \n",
    "# variable information \n",
    "print(data.variables) \n"
   ]
  },
  {
   "cell_type": "code",
   "execution_count": 14,
   "id": "1519bb0c",
   "metadata": {},
   "outputs": [],
   "source": [
    "from sklearn.model_selection import train_test_split"
   ]
  },
  {
   "cell_type": "code",
   "execution_count": 17,
   "id": "adadb15f",
   "metadata": {},
   "outputs": [],
   "source": [
    "x_train,y_train,x_test,y_test= train_test_split(X,y,test_size=0.33,random_state=42)"
   ]
  },
  {
   "cell_type": "code",
   "execution_count": 18,
   "id": "7f59c5eb",
   "metadata": {},
   "outputs": [],
   "source": [
    "from sklearn.preprocessing import StandardScaler\n",
    "\n",
    "scaler = StandardScaler()\n",
    "\n",
    "x_train = scaler.fit_transform(x_train)\n"
   ]
  },
  {
   "cell_type": "code",
   "execution_count": 19,
   "id": "5c8ccba6",
   "metadata": {},
   "outputs": [
    {
     "data": {
      "text/plain": [
       "array([[ 0.87105392, -0.50160891, -0.04529965, ...,  0.65105132,\n",
       "         1.92236422,  0.95776699],\n",
       "       [ 1.07143396,  2.38098554, -0.53195636, ..., -1.59472678,\n",
       "        -1.72764644, -1.06606301],\n",
       "       [-0.80270878, -0.90952322, -1.46783465, ...,  1.15952938,\n",
       "         0.19988728, -1.02362787],\n",
       "       ...,\n",
       "       [ 1.66078703, -0.49254415,  0.02957061, ...,  1.03240987,\n",
       "         0.55531903,  2.62905886],\n",
       "       [-0.33122633, -0.80074607, -0.41965097, ...,  0.01545374,\n",
       "        -0.72970345, -0.80492366],\n",
       "       [-0.74377347,  0.03321207,  0.32905166, ..., -0.662517  ,\n",
       "         1.0747962 , -0.99098545]])"
      ]
     },
     "execution_count": 19,
     "metadata": {},
     "output_type": "execute_result"
    }
   ],
   "source": [
    "x_train"
   ]
  },
  {
   "cell_type": "code",
   "execution_count": 22,
   "id": "7541e65f",
   "metadata": {},
   "outputs": [],
   "source": [
    "# PCA - TRNSFORMATION\n",
    "pca = PCA(n_components=3)"
   ]
  },
  {
   "cell_type": "code",
   "execution_count": 23,
   "id": "279da75c",
   "metadata": {},
   "outputs": [
    {
     "data": {
      "text/plain": [
       "array([[ 2.52352277e+00,  3.83684129e-02, -3.06369230e-01],\n",
       "       [-4.16020518e+00, -7.40659508e-01, -1.41069026e+00],\n",
       "       [ 1.05621404e+00,  2.43286949e+00, -1.40498156e+00],\n",
       "       [ 2.07051228e+00,  1.40891373e+00, -1.66743313e+00],\n",
       "       [-2.87044426e+00, -1.46583212e+00, -1.07820822e+00],\n",
       "       [ 1.75716391e+00, -7.18330328e-01, -1.07315692e+00],\n",
       "       [ 2.44169220e+00, -1.28887468e+00, -7.85519739e-01],\n",
       "       [ 1.26034201e+00, -5.45360686e-02, -1.40963207e+00],\n",
       "       [-2.13873534e+00, -1.31990701e+00, -1.26719436e+00],\n",
       "       [ 1.03812939e+00, -6.12857676e-01,  2.07446668e+00],\n",
       "       [ 1.67725268e+00, -4.30016444e-02, -1.03556289e-01],\n",
       "       [ 2.67557755e+00,  8.93112383e-02,  5.09913995e-01],\n",
       "       [-3.09604579e+00,  1.70545774e-01, -8.87122027e-01],\n",
       "       [-7.95636762e-01,  2.25763939e+00, -1.82333016e+00],\n",
       "       [ 3.44759512e+00, -1.35309464e+00, -3.83580047e-01],\n",
       "       [-3.49028185e+00, -1.32337009e+00, -1.51966032e-02],\n",
       "       [-4.14820472e-01,  6.47578706e-01,  1.17803079e-01],\n",
       "       [ 3.30532309e+00, -1.42473578e+00, -3.53444704e-02],\n",
       "       [-2.86879433e+00, -3.15098300e-01,  1.08896316e+00],\n",
       "       [ 1.06203504e-01,  1.34315958e+00,  4.43103015e-01],\n",
       "       [-5.40316358e-01,  2.00239161e+00,  6.01405241e-01],\n",
       "       [ 2.11146534e+00, -3.57605090e-03, -7.81951941e-01],\n",
       "       [-4.60092024e-01,  6.35984178e-01,  1.02485085e+00],\n",
       "       [ 2.17569124e+00, -5.30120487e-01,  1.52762978e+00],\n",
       "       [ 2.58608125e+00, -7.80470859e-01, -9.47637179e-02],\n",
       "       [-1.43638571e+00,  1.58131853e+00,  3.14526075e+00],\n",
       "       [ 1.05987583e+00, -4.75914896e-01,  3.89802759e+00],\n",
       "       [ 1.64260460e+00,  4.88732750e-01,  8.85472970e-02],\n",
       "       [-2.82924987e+00, -1.86429135e-01, -2.60529326e-01],\n",
       "       [ 1.05868403e+00,  1.38178809e+00, -5.85694057e-01],\n",
       "       [ 4.36986090e-01,  1.21380165e+00,  1.54099381e+00],\n",
       "       [ 8.96499643e-01,  1.55495712e+00,  2.86005307e-01],\n",
       "       [ 2.47233174e+00, -1.81089031e+00, -2.55251403e-01],\n",
       "       [-4.46384526e-01,  2.17335092e+00, -1.78430448e+00],\n",
       "       [-6.89860663e-01,  2.34687398e+00,  5.10977636e-01],\n",
       "       [ 7.79922264e-01,  1.46373193e+00,  7.91806197e-01],\n",
       "       [-3.27423140e+00, -2.26382562e+00, -1.21795896e-01],\n",
       "       [-2.70568905e+00, -4.42945371e-01,  9.40227589e-01],\n",
       "       [ 2.78550439e+00, -7.69682460e-01, -1.18371249e+00],\n",
       "       [ 9.29644229e-01,  2.20785147e+00, -2.47367642e-01],\n",
       "       [-2.91520352e+00, -4.78528157e-01, -9.35569725e-01],\n",
       "       [-2.33879326e+00, -2.53049342e+00,  6.44910539e-01],\n",
       "       [-1.74277856e+00,  6.86555664e-01, -1.53402185e+00],\n",
       "       [ 2.59026629e+00,  2.12811977e-01,  3.09173802e+00],\n",
       "       [ 1.92990989e+00, -1.46855640e+00,  1.48065856e+00],\n",
       "       [-3.68687041e-02,  2.11982759e+00,  1.17038073e-01],\n",
       "       [-2.09886071e+00, -3.34223509e-01, -6.10964717e-01],\n",
       "       [-2.26464700e+00, -1.18024789e-01,  1.28983132e+00],\n",
       "       [ 6.72392110e-02,  1.13192322e+00, -1.82539619e+00],\n",
       "       [-2.25263036e+00, -2.30239801e+00, -3.08628166e-01],\n",
       "       [-1.20836022e+00,  9.14190309e-01,  2.07964607e+00],\n",
       "       [ 5.78282694e-01,  3.93940333e+00,  9.22612072e-01],\n",
       "       [-1.59638935e+00,  1.80011084e+00,  8.35041006e-01],\n",
       "       [ 2.21220847e+00, -1.84764174e+00,  6.13400454e-01],\n",
       "       [ 3.01457299e+00, -2.19137483e+00, -3.63436832e-01],\n",
       "       [-3.05375704e+00, -7.81844742e-01, -7.29062050e-02],\n",
       "       [ 3.68140795e+00, -2.78778748e+00,  3.45234712e-02],\n",
       "       [-3.39270849e+00, -8.96978112e-01, -3.75170342e-01],\n",
       "       [ 2.66990583e+00, -1.86972792e+00, -4.59976011e-01],\n",
       "       [ 1.90294897e+00, -1.31002465e-01,  3.84885135e-01],\n",
       "       [ 7.96563312e-01,  3.31732319e+00, -7.43567823e-01],\n",
       "       [-1.34747819e+00,  1.37069639e+00, -3.86434611e-01],\n",
       "       [ 1.42707799e+00, -6.07993531e-01,  5.55620526e-01],\n",
       "       [ 2.68665135e+00, -1.25862853e+00, -5.00920907e-01],\n",
       "       [ 2.04872172e+00, -1.57614344e+00,  3.79167900e-01],\n",
       "       [ 1.00809535e+00,  1.53155925e+00,  9.32590879e-01],\n",
       "       [ 4.79174625e-01, -3.65024452e-01, -2.79482049e-01],\n",
       "       [-1.41154271e+00,  9.00369914e-01, -7.90574108e-01],\n",
       "       [-3.76810960e+00, -1.29676104e-01,  2.26144844e-01],\n",
       "       [ 1.51232463e+00,  1.44452367e+00, -5.39474577e-01],\n",
       "       [-1.41584397e+00,  1.93272108e+00,  5.99378305e-01],\n",
       "       [-2.38328352e+00,  1.42116903e-01,  4.62532808e-01],\n",
       "       [-2.80129421e+00, -1.99365413e+00, -6.01251419e-01],\n",
       "       [-2.14883290e+00, -1.12219006e+00,  1.25396245e-01],\n",
       "       [-4.46728861e-01,  2.72343317e+00,  5.32802705e-01],\n",
       "       [ 2.49254018e+00, -1.05835360e+00, -1.61524901e+00],\n",
       "       [ 3.44064072e+00, -1.26070532e+00, -9.50324185e-01],\n",
       "       [-8.60767903e-01,  2.63631121e+00, -4.82878410e+00],\n",
       "       [-1.73583293e+00, -1.22872318e+00,  1.30994195e+00],\n",
       "       [-2.31560405e+00, -3.74054246e-01, -7.74991505e-01],\n",
       "       [ 1.89861559e+00, -1.52212657e+00,  1.00685415e+00],\n",
       "       [-6.62490135e-01,  1.14130191e+00, -9.33185239e-02],\n",
       "       [-3.45577053e+00, -1.82326790e+00,  3.14196975e-02],\n",
       "       [-2.21946778e+00,  3.70373255e-01, -1.02610210e+00],\n",
       "       [-2.71029044e+00, -1.59584522e+00, -3.55829268e-01],\n",
       "       [-2.48665667e+00, -7.38421489e-01, -8.28699986e-01],\n",
       "       [ 2.00470429e+00,  1.90218520e+00, -3.60774330e-01],\n",
       "       [ 2.13096476e+00, -1.08767538e+00, -9.04826625e-01],\n",
       "       [-1.46414731e+00,  1.42725215e+00,  1.30827647e-01],\n",
       "       [ 3.17378027e+00, -4.50093201e-01, -2.09023575e+00],\n",
       "       [-2.58373117e+00, -2.84042046e+00, -7.47068013e-01],\n",
       "       [ 3.07623723e+00, -1.76049766e+00, -1.95434082e-01],\n",
       "       [ 2.02200143e+00, -1.22035385e+00,  1.00403151e-02],\n",
       "       [-9.98455890e-01,  1.85846367e+00,  7.60003532e-01],\n",
       "       [ 1.08201637e+00, -1.89753026e-01,  8.30604267e-01],\n",
       "       [ 2.13552527e+00, -1.22983587e+00,  4.14421022e-01],\n",
       "       [-2.38940587e+00, -2.24922967e+00, -6.25378952e-01],\n",
       "       [-1.69483116e+00,  1.18676717e+00,  5.24886309e-01],\n",
       "       [ 1.13260907e+00, -1.12627378e-01, -1.71376664e-02],\n",
       "       [-3.22541018e+00, -1.13804327e+00,  1.71283745e+00],\n",
       "       [-2.08241984e+00, -1.92596391e+00,  9.10920562e-01],\n",
       "       [ 2.17361878e+00,  6.34032973e-02, -1.97919570e+00],\n",
       "       [ 3.42537596e+00, -1.71153418e+00, -3.20871028e-01],\n",
       "       [-2.82550907e+00, -2.05649453e+00, -4.08427391e-01],\n",
       "       [-1.24409303e+00, -1.35718789e-01, -1.23812337e+00],\n",
       "       [-2.50127428e+00, -2.04224380e+00, -2.65308107e-01],\n",
       "       [-5.60089035e-01,  2.61626481e+00, -1.16410120e+00],\n",
       "       [ 1.46746060e+00,  2.20314359e+00,  4.08071852e-01],\n",
       "       [-1.51139191e-01,  2.78557524e+00, -7.37861207e-01],\n",
       "       [-4.65746478e-01,  2.58500772e+00,  2.00772086e+00],\n",
       "       [ 1.82606785e+00,  1.35054875e+00,  7.68019466e-02],\n",
       "       [ 1.35033831e+00,  2.33118937e-01,  5.24162978e+00],\n",
       "       [-3.10657026e+00, -2.61370771e+00,  1.30377559e+00],\n",
       "       [ 3.09391670e+00, -7.79453652e-01, -3.34246072e-01],\n",
       "       [ 1.63757312e+00,  1.22766945e+00,  1.74711581e+00],\n",
       "       [-2.75139593e-01,  2.07792627e+00, -7.36183154e-01],\n",
       "       [ 4.25229838e+00, -2.27210703e+00, -1.03930487e+00],\n",
       "       [-1.75475749e+00,  1.59003576e+00, -1.74343735e-01],\n",
       "       [-1.05570278e-01,  1.27121233e+00,  7.80807841e-01]])"
      ]
     },
     "execution_count": 23,
     "metadata": {},
     "output_type": "execute_result"
    }
   ],
   "source": [
    "x_train = pca.fit_transform(x_train)\n",
    "x_train"
   ]
  },
  {
   "cell_type": "code",
   "execution_count": 25,
   "id": "f97de271",
   "metadata": {},
   "outputs": [
    {
     "data": {
      "text/plain": [
       "array([[ 0.14733424, -0.25027499, -0.01252058, -0.23440896,  0.15738948,\n",
       "         0.39369045,  0.41565632, -0.27414911,  0.33265958, -0.10517746,\n",
       "         0.29234204,  0.38195327,  0.28245765],\n",
       "       [-0.48989241, -0.23489249, -0.24612128,  0.09586839, -0.27341935,\n",
       "        -0.05255799,  0.00246418, -0.02048056, -0.01293734, -0.55210635,\n",
       "         0.28639953,  0.15726874, -0.38127621],\n",
       "       [-0.12883943,  0.07837079,  0.66992589,  0.58400534,  0.1560393 ,\n",
       "         0.14094797,  0.16225452,  0.246157  ,  0.0987407 , -0.06645383,\n",
       "         0.08648691,  0.1650139 , -0.08593995]])"
      ]
     },
     "execution_count": 25,
     "metadata": {},
     "output_type": "execute_result"
    }
   ],
   "source": [
    "pca.components_"
   ]
  },
  {
   "cell_type": "code",
   "execution_count": 42,
   "id": "0e20a050",
   "metadata": {},
   "outputs": [],
   "source": [
    "# Implement PCA\n",
    "pca = PCA()\n",
    "X_pca = pca.fit_transform(x_train)\n"
   ]
  },
  {
   "cell_type": "code",
   "execution_count": 47,
   "id": "4bb094b6",
   "metadata": {},
   "outputs": [
    {
     "data": {
      "text/plain": [
       "array([[ 2.52352277e+00,  3.83684129e-02, -3.06369230e-01],\n",
       "       [-4.16020518e+00, -7.40659508e-01, -1.41069026e+00],\n",
       "       [ 1.05621404e+00,  2.43286949e+00, -1.40498156e+00],\n",
       "       [ 2.07051228e+00,  1.40891373e+00, -1.66743313e+00],\n",
       "       [-2.87044426e+00, -1.46583212e+00, -1.07820822e+00],\n",
       "       [ 1.75716391e+00, -7.18330328e-01, -1.07315692e+00],\n",
       "       [ 2.44169220e+00, -1.28887468e+00, -7.85519739e-01],\n",
       "       [ 1.26034201e+00, -5.45360686e-02, -1.40963207e+00],\n",
       "       [-2.13873534e+00, -1.31990701e+00, -1.26719436e+00],\n",
       "       [ 1.03812939e+00, -6.12857676e-01,  2.07446668e+00],\n",
       "       [ 1.67725268e+00, -4.30016444e-02, -1.03556289e-01],\n",
       "       [ 2.67557755e+00,  8.93112383e-02,  5.09913995e-01],\n",
       "       [-3.09604579e+00,  1.70545774e-01, -8.87122027e-01],\n",
       "       [-7.95636762e-01,  2.25763939e+00, -1.82333016e+00],\n",
       "       [ 3.44759512e+00, -1.35309464e+00, -3.83580047e-01],\n",
       "       [-3.49028185e+00, -1.32337009e+00, -1.51966032e-02],\n",
       "       [-4.14820472e-01,  6.47578706e-01,  1.17803079e-01],\n",
       "       [ 3.30532309e+00, -1.42473578e+00, -3.53444704e-02],\n",
       "       [-2.86879433e+00, -3.15098300e-01,  1.08896316e+00],\n",
       "       [ 1.06203504e-01,  1.34315958e+00,  4.43103015e-01],\n",
       "       [-5.40316358e-01,  2.00239161e+00,  6.01405241e-01],\n",
       "       [ 2.11146534e+00, -3.57605090e-03, -7.81951941e-01],\n",
       "       [-4.60092024e-01,  6.35984178e-01,  1.02485085e+00],\n",
       "       [ 2.17569124e+00, -5.30120487e-01,  1.52762978e+00],\n",
       "       [ 2.58608125e+00, -7.80470859e-01, -9.47637179e-02],\n",
       "       [-1.43638571e+00,  1.58131853e+00,  3.14526075e+00],\n",
       "       [ 1.05987583e+00, -4.75914896e-01,  3.89802759e+00],\n",
       "       [ 1.64260460e+00,  4.88732750e-01,  8.85472970e-02],\n",
       "       [-2.82924987e+00, -1.86429135e-01, -2.60529326e-01],\n",
       "       [ 1.05868403e+00,  1.38178809e+00, -5.85694057e-01],\n",
       "       [ 4.36986090e-01,  1.21380165e+00,  1.54099381e+00],\n",
       "       [ 8.96499643e-01,  1.55495712e+00,  2.86005307e-01],\n",
       "       [ 2.47233174e+00, -1.81089031e+00, -2.55251403e-01],\n",
       "       [-4.46384526e-01,  2.17335092e+00, -1.78430448e+00],\n",
       "       [-6.89860663e-01,  2.34687398e+00,  5.10977636e-01],\n",
       "       [ 7.79922264e-01,  1.46373193e+00,  7.91806197e-01],\n",
       "       [-3.27423140e+00, -2.26382562e+00, -1.21795896e-01],\n",
       "       [-2.70568905e+00, -4.42945371e-01,  9.40227589e-01],\n",
       "       [ 2.78550439e+00, -7.69682460e-01, -1.18371249e+00],\n",
       "       [ 9.29644229e-01,  2.20785147e+00, -2.47367642e-01],\n",
       "       [-2.91520352e+00, -4.78528157e-01, -9.35569725e-01],\n",
       "       [-2.33879326e+00, -2.53049342e+00,  6.44910539e-01],\n",
       "       [-1.74277856e+00,  6.86555664e-01, -1.53402185e+00],\n",
       "       [ 2.59026629e+00,  2.12811977e-01,  3.09173802e+00],\n",
       "       [ 1.92990989e+00, -1.46855640e+00,  1.48065856e+00],\n",
       "       [-3.68687041e-02,  2.11982759e+00,  1.17038073e-01],\n",
       "       [-2.09886071e+00, -3.34223509e-01, -6.10964717e-01],\n",
       "       [-2.26464700e+00, -1.18024789e-01,  1.28983132e+00],\n",
       "       [ 6.72392110e-02,  1.13192322e+00, -1.82539619e+00],\n",
       "       [-2.25263036e+00, -2.30239801e+00, -3.08628166e-01],\n",
       "       [-1.20836022e+00,  9.14190309e-01,  2.07964607e+00],\n",
       "       [ 5.78282694e-01,  3.93940333e+00,  9.22612072e-01],\n",
       "       [-1.59638935e+00,  1.80011084e+00,  8.35041006e-01],\n",
       "       [ 2.21220847e+00, -1.84764174e+00,  6.13400454e-01],\n",
       "       [ 3.01457299e+00, -2.19137483e+00, -3.63436832e-01],\n",
       "       [-3.05375704e+00, -7.81844742e-01, -7.29062050e-02],\n",
       "       [ 3.68140795e+00, -2.78778748e+00,  3.45234712e-02],\n",
       "       [-3.39270849e+00, -8.96978112e-01, -3.75170342e-01],\n",
       "       [ 2.66990583e+00, -1.86972792e+00, -4.59976011e-01],\n",
       "       [ 1.90294897e+00, -1.31002465e-01,  3.84885135e-01],\n",
       "       [ 7.96563312e-01,  3.31732319e+00, -7.43567823e-01],\n",
       "       [-1.34747819e+00,  1.37069639e+00, -3.86434611e-01],\n",
       "       [ 1.42707799e+00, -6.07993531e-01,  5.55620526e-01],\n",
       "       [ 2.68665135e+00, -1.25862853e+00, -5.00920907e-01],\n",
       "       [ 2.04872172e+00, -1.57614344e+00,  3.79167900e-01],\n",
       "       [ 1.00809535e+00,  1.53155925e+00,  9.32590879e-01],\n",
       "       [ 4.79174625e-01, -3.65024452e-01, -2.79482049e-01],\n",
       "       [-1.41154271e+00,  9.00369914e-01, -7.90574108e-01],\n",
       "       [-3.76810960e+00, -1.29676104e-01,  2.26144844e-01],\n",
       "       [ 1.51232463e+00,  1.44452367e+00, -5.39474577e-01],\n",
       "       [-1.41584397e+00,  1.93272108e+00,  5.99378305e-01],\n",
       "       [-2.38328352e+00,  1.42116903e-01,  4.62532808e-01],\n",
       "       [-2.80129421e+00, -1.99365413e+00, -6.01251419e-01],\n",
       "       [-2.14883290e+00, -1.12219006e+00,  1.25396245e-01],\n",
       "       [-4.46728861e-01,  2.72343317e+00,  5.32802705e-01],\n",
       "       [ 2.49254018e+00, -1.05835360e+00, -1.61524901e+00],\n",
       "       [ 3.44064072e+00, -1.26070532e+00, -9.50324185e-01],\n",
       "       [-8.60767903e-01,  2.63631121e+00, -4.82878410e+00],\n",
       "       [-1.73583293e+00, -1.22872318e+00,  1.30994195e+00],\n",
       "       [-2.31560405e+00, -3.74054246e-01, -7.74991505e-01],\n",
       "       [ 1.89861559e+00, -1.52212657e+00,  1.00685415e+00],\n",
       "       [-6.62490135e-01,  1.14130191e+00, -9.33185239e-02],\n",
       "       [-3.45577053e+00, -1.82326790e+00,  3.14196975e-02],\n",
       "       [-2.21946778e+00,  3.70373255e-01, -1.02610210e+00],\n",
       "       [-2.71029044e+00, -1.59584522e+00, -3.55829268e-01],\n",
       "       [-2.48665667e+00, -7.38421489e-01, -8.28699986e-01],\n",
       "       [ 2.00470429e+00,  1.90218520e+00, -3.60774330e-01],\n",
       "       [ 2.13096476e+00, -1.08767538e+00, -9.04826625e-01],\n",
       "       [-1.46414731e+00,  1.42725215e+00,  1.30827647e-01],\n",
       "       [ 3.17378027e+00, -4.50093201e-01, -2.09023575e+00],\n",
       "       [-2.58373117e+00, -2.84042046e+00, -7.47068013e-01],\n",
       "       [ 3.07623723e+00, -1.76049766e+00, -1.95434082e-01],\n",
       "       [ 2.02200143e+00, -1.22035385e+00,  1.00403151e-02],\n",
       "       [-9.98455890e-01,  1.85846367e+00,  7.60003532e-01],\n",
       "       [ 1.08201637e+00, -1.89753026e-01,  8.30604267e-01],\n",
       "       [ 2.13552527e+00, -1.22983587e+00,  4.14421022e-01],\n",
       "       [-2.38940587e+00, -2.24922967e+00, -6.25378952e-01],\n",
       "       [-1.69483116e+00,  1.18676717e+00,  5.24886309e-01],\n",
       "       [ 1.13260907e+00, -1.12627378e-01, -1.71376664e-02],\n",
       "       [-3.22541018e+00, -1.13804327e+00,  1.71283745e+00],\n",
       "       [-2.08241984e+00, -1.92596391e+00,  9.10920562e-01],\n",
       "       [ 2.17361878e+00,  6.34032973e-02, -1.97919570e+00],\n",
       "       [ 3.42537596e+00, -1.71153418e+00, -3.20871028e-01],\n",
       "       [-2.82550907e+00, -2.05649453e+00, -4.08427391e-01],\n",
       "       [-1.24409303e+00, -1.35718789e-01, -1.23812337e+00],\n",
       "       [-2.50127428e+00, -2.04224380e+00, -2.65308107e-01],\n",
       "       [-5.60089035e-01,  2.61626481e+00, -1.16410120e+00],\n",
       "       [ 1.46746060e+00,  2.20314359e+00,  4.08071852e-01],\n",
       "       [-1.51139191e-01,  2.78557524e+00, -7.37861207e-01],\n",
       "       [-4.65746478e-01,  2.58500772e+00,  2.00772086e+00],\n",
       "       [ 1.82606785e+00,  1.35054875e+00,  7.68019466e-02],\n",
       "       [ 1.35033831e+00,  2.33118937e-01,  5.24162978e+00],\n",
       "       [-3.10657026e+00, -2.61370771e+00,  1.30377559e+00],\n",
       "       [ 3.09391670e+00, -7.79453652e-01, -3.34246072e-01],\n",
       "       [ 1.63757312e+00,  1.22766945e+00,  1.74711581e+00],\n",
       "       [-2.75139593e-01,  2.07792627e+00, -7.36183154e-01],\n",
       "       [ 4.25229838e+00, -2.27210703e+00, -1.03930487e+00],\n",
       "       [-1.75475749e+00,  1.59003576e+00, -1.74343735e-01],\n",
       "       [-1.05570278e-01,  1.27121233e+00,  7.80807841e-01]])"
      ]
     },
     "execution_count": 47,
     "metadata": {},
     "output_type": "execute_result"
    }
   ],
   "source": [
    "X_pca"
   ]
  },
  {
   "cell_type": "code",
   "execution_count": 43,
   "id": "1e33a267",
   "metadata": {},
   "outputs": [],
   "source": [
    "# Determine optimal number of components\n",
    "explained_variance = pca.explained_variance_ratio_\n",
    "cumulative_variance = explained_variance.cumsum()"
   ]
  },
  {
   "cell_type": "code",
   "execution_count": 44,
   "id": "7e236e5c",
   "metadata": {},
   "outputs": [
    {
     "data": {
      "text/plain": [
       "array([0.54297576, 0.27833333, 0.17869091])"
      ]
     },
     "execution_count": 44,
     "metadata": {},
     "output_type": "execute_result"
    }
   ],
   "source": [
    "explained_variance"
   ]
  },
  {
   "cell_type": "code",
   "execution_count": 45,
   "id": "7e939d73",
   "metadata": {},
   "outputs": [
    {
     "data": {
      "text/plain": [
       "array([0.54297576, 0.82130909, 1.        ])"
      ]
     },
     "execution_count": 45,
     "metadata": {},
     "output_type": "execute_result"
    }
   ],
   "source": [
    "cumulative_variance"
   ]
  },
  {
   "cell_type": "code",
   "execution_count": 50,
   "id": "616d8bca",
   "metadata": {},
   "outputs": [
    {
     "name": "stderr",
     "output_type": "stream",
     "text": [
      "C:\\Users\\AKASH VISHWAKARMA\\AppData\\Local\\Temp\\ipykernel_19604\\1528386046.py:2: UserWarning: No data for colormapping provided via 'c'. Parameters 'cmap' will be ignored\n",
      "  plt.scatter(X_pca[:, 0], X_pca[:, 1], cmap='viridis')\n"
     ]
    },
    {
     "data": {
      "image/png": "[encoded data removed]",
      "text/plain": [
       "<Figure size 640x480 with 1 Axes>"
      ]
     },
     "metadata": {},
     "output_type": "display_data"
    }
   ],
   "source": [
    "# Visualize PCA results using scatter plot\n",
    "plt.scatter(X_pca[:, 0], X_pca[:, 1], cmap='viridis')\n",
    "plt.xlabel('Principal Component 1')\n",
    "plt.ylabel('Principal Component 2')\n",
    "plt.title('PCA Scatter Plot')\n",
    "plt.show()"
   ]
  },
  {
   "cell_type": "code",
   "execution_count": 56,
   "id": "803d9bf0",
   "metadata": {},
   "outputs": [],
   "source": [
    "# Perform K-Means clustering on PCA-transformed data\n",
    "from sklearn.cluster import KMeans\n",
    "import warnings\n",
    "warnings.filterwarnings(\"ignore\")\n",
    "\n",
    "desired_num_clusters = 3\n",
    "\n",
    "kmeans = KMeans(n_clusters=desired_num_clusters)\n",
    "kmeans.fit(X_pca)\n",
    "cluster_labels = kmeans.labels_"
   ]
  },
  {
   "cell_type": "code",
   "execution_count": 57,
   "id": "a910ff05",
   "metadata": {},
   "outputs": [
    {
     "data": {
      "text/html": [
       "<style>#sk-container-id-1 {color: black;background-color: white;}#sk-container-id-1 pre{padding: 0;}#sk-container-id-1 div.sk-toggleable {background-color: white;}#sk-container-id-1 label.sk-toggleable__label {cursor: pointer;display: block;width: 100%;margin-bottom: 0;padding: 0.3em;box-sizing: border-box;text-align: center;}#sk-container-id-1 label.sk-toggleable__label-arrow:before {content: \"▸\";float: left;margin-right: 0.25em;color: #696969;}#sk-container-id-1 label.sk-toggleable__label-arrow:hover:before {color: black;}#sk-container-id-1 div.sk-estimator:hover label.sk-toggleable__label-arrow:before {color: black;}#sk-container-id-1 div.sk-toggleable__content {max-height: 0;max-width: 0;overflow: hidden;text-align: left;background-color: #f0f8ff;}#sk-container-id-1 div.sk-toggleable__content pre {margin: 0.2em;color: black;border-radius: 0.25em;background-color: #f0f8ff;}#sk-container-id-1 input.sk-toggleable__control:checked~div.sk-toggleable__content {max-height: 200px;max-width: 100%;overflow: auto;}#sk-container-id-1 input.sk-toggleable__control:checked~label.sk-toggleable__label-arrow:before {content: \"▾\";}#sk-container-id-1 div.sk-estimator input.sk-toggleable__control:checked~label.sk-toggleable__label {background-color: #d4ebff;}#sk-container-id-1 div.sk-label input.sk-toggleable__control:checked~label.sk-toggleable__label {background-color: #d4ebff;}#sk-container-id-1 input.sk-hidden--visually {border: 0;clip: rect(1px 1px 1px 1px);clip: rect(1px, 1px, 1px, 1px);height: 1px;margin: -1px;overflow: hidden;padding: 0;position: absolute;width: 1px;}#sk-container-id-1 div.sk-estimator {font-family: monospace;background-color: #f0f8ff;border: 1px dotted black;border-radius: 0.25em;box-sizing: border-box;margin-bottom: 0.5em;}#sk-container-id-1 div.sk-estimator:hover {background-color: #d4ebff;}#sk-container-id-1 div.sk-parallel-item::after {content: \"\";width: 100%;border-bottom: 1px solid gray;flex-grow: 1;}#sk-container-id-1 div.sk-label:hover label.sk-toggleable__label {background-color: #d4ebff;}#sk-container-id-1 div.sk-serial::before {content: \"\";position: absolute;border-left: 1px solid gray;box-sizing: border-box;top: 0;bottom: 0;left: 50%;z-index: 0;}#sk-container-id-1 div.sk-serial {display: flex;flex-direction: column;align-items: center;background-color: white;padding-right: 0.2em;padding-left: 0.2em;position: relative;}#sk-container-id-1 div.sk-item {position: relative;z-index: 1;}#sk-container-id-1 div.sk-parallel {display: flex;align-items: stretch;justify-content: center;background-color: white;position: relative;}#sk-container-id-1 div.sk-item::before, #sk-container-id-1 div.sk-parallel-item::before {content: \"\";position: absolute;border-left: 1px solid gray;box-sizing: border-box;top: 0;bottom: 0;left: 50%;z-index: -1;}#sk-container-id-1 div.sk-parallel-item {display: flex;flex-direction: column;z-index: 1;position: relative;background-color: white;}#sk-container-id-1 div.sk-parallel-item:first-child::after {align-self: flex-end;width: 50%;}#sk-container-id-1 div.sk-parallel-item:last-child::after {align-self: flex-start;width: 50%;}#sk-container-id-1 div.sk-parallel-item:only-child::after {width: 0;}#sk-container-id-1 div.sk-dashed-wrapped {border: 1px dashed gray;margin: 0 0.4em 0.5em 0.4em;box-sizing: border-box;padding-bottom: 0.4em;background-color: white;}#sk-container-id-1 div.sk-label label {font-family: monospace;font-weight: bold;display: inline-block;line-height: 1.2em;}#sk-container-id-1 div.sk-label-container {text-align: center;}#sk-container-id-1 div.sk-container {/* jupyter's `normalize.less` sets `[hidden] { display: none; }` but bootstrap.min.css set `[hidden] { display: none !important; }` so we also need the `!important` here to be able to override the default hidden behavior on the sphinx rendered scikit-learn.org. See: https://github.com/scikit-learn/scikit-learn/issues/21755 */display: inline-block !important;position: relative;}#sk-container-id-1 div.sk-text-repr-fallback {display: none;}</style><div id=\"sk-container-id-1\" class=\"sk-top-container\"><div class=\"sk-text-repr-fallback\"><pre>KMeans(n_clusters=3)</pre><b>In a Jupyter environment, please rerun this cell to show the HTML representation or trust the notebook. <br />On GitHub, the HTML representation is unable to render, please try loading this page with nbviewer.org.</b></div><div class=\"sk-container\" hidden><div class=\"sk-item\"><div class=\"sk-estimator sk-toggleable\"><input class=\"sk-toggleable__control sk-hidden--visually\" id=\"sk-estimator-id-1\" type=\"checkbox\" checked><label for=\"sk-estimator-id-1\" class=\"sk-toggleable__label sk-toggleable__label-arrow\">KMeans</label><div class=\"sk-toggleable__content\"><pre>KMeans(n_clusters=3)</pre></div></div></div></div></div>"
      ],
      "text/plain": [
       "KMeans(n_clusters=3)"
      ]
     },
     "execution_count": 57,
     "metadata": {},
     "output_type": "execute_result"
    }
   ],
   "source": [
    "kmeans"
   ]
  },
  {
   "cell_type": "code",
   "execution_count": 61,
   "id": "8018a883",
   "metadata": {},
   "outputs": [
    {
     "data": {
      "text/plain": [
       "array([1, 0, 2, 2, 0, 1, 1, 1, 0, 1, 1, 1, 0, 2, 1, 0, 2, 1, 0, 2, 2, 1,\n",
       "       2, 1, 1, 2, 1, 1, 0, 2, 2, 2, 1, 2, 2, 2, 0, 0, 1, 2, 0, 0, 0, 1,\n",
       "       1, 2, 0, 0, 2, 0, 2, 2, 2, 1, 1, 0, 1, 0, 1, 1, 2, 2, 1, 1, 1, 2,\n",
       "       1, 2, 0, 2, 2, 0, 0, 0, 2, 1, 1, 2, 0, 0, 1, 2, 0, 0, 0, 0, 2, 1,\n",
       "       2, 1, 0, 1, 1, 2, 1, 1, 0, 2, 1, 0, 0, 1, 1, 0, 0, 0, 2, 2, 2, 2,\n",
       "       2, 1, 0, 1, 2, 2, 1, 2, 2])"
      ]
     },
     "execution_count": 61,
     "metadata": {},
     "output_type": "execute_result"
    }
   ],
   "source": [
    "cluster_labels"
   ]
  },
  {
   "cell_type": "markdown",
   "id": "ae8d0b9d",
   "metadata": {},
   "source": [
    " ### Interpret PCA and Clustering Results:\n",
    "Analyze variance explained by each principal component.\n",
    "Interpret the scatter plot to observe clusters based on transformed data.\n",
    "Evaluate and interpret the clusters obtained from K-Means."
   ]
  },
  {
   "cell_type": "code",
   "execution_count": null,
   "id": "6de86318",
   "metadata": {},
   "outputs": [],
   "source": []
  }
 ],
 "metadata": {
  "kernelspec": {
   "display_name": "Python 3 (ipykernel)",
   "language": "python",
   "name": "python3"
  },
  "language_info": {
   "codemirror_mode": {
    "name": "ipython",
    "version": 3
   },
   "file_extension": ".py",
   "mimetype": "text/x-python",
   "name": "python",
   "nbconvert_exporter": "python",
   "pygments_lexer": "ipython3",
   "version": "3.10.9"
  }
 },
 "nbformat": 4,
 "nbformat_minor": 5
}
